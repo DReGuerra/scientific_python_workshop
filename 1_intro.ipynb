{
 "cells": [
  {
   "cell_type": "markdown",
   "metadata": {},
   "source": [
    "# Data Analysis in Python Workshop\n",
    "André Guerra, andre.guerra@mail.mcgill.ca \\\n",
    "April, 2021 \\\n",
    "<u>Desciption:</u> This workshop focuses on data analysis techniques using python\n",
    "\n",
    "This first notebook in the series examines some of the basic features of the python language."
   ]
  },
  {
   "cell_type": "markdown",
   "metadata": {},
   "source": [
    "## Python introduction\n",
    "### What is Python?\n",
    "- Iterpreted language\n",
    "    - efficient structures\n",
    "    - natural object oriented programming\n",
    "    \n",
    "### Basics\n",
    "- Several default types\n",
    "    - int, float, complex\n",
    "- variable assignment with '='\n",
    "- Functions to cast a variable to a new type\n",
    "    - int(variable), float(varaible)\n",
    "- Basic math functions\n",
    "    - abs(variable), pow(variable)"
   ]
  },
  {
   "cell_type": "code",
   "execution_count": 2,
   "metadata": {},
   "outputs": [
    {
     "name": "stdout",
     "output_type": "stream",
     "text": [
      "abs(a) = 2\n",
      "pow(a,2) = 4\n"
     ]
    }
   ],
   "source": [
    "a = -2 # declare variable\n",
    "b = abs(a)\n",
    "print(\"abs(a) = \" + str(b))\n",
    "\n",
    "c = pow(a,2)\n",
    "print(\"pow(a,2) = \" + str(c))"
   ]
  },
  {
   "cell_type": "markdown",
   "metadata": {},
   "source": [
    "___\n",
    "## Numbers and Objects\n",
    "- Complex numbers are an object\n",
    "    - contain real and imaginary parts\n",
    "        - a = 1 + 5j\n",
    "- Cast variables to a new type\n",
    "    - b = 7\n",
    "      c = float(b)\n",
    "      c will return 7.0"
   ]
  },
  {
   "cell_type": "markdown",
   "metadata": {},
   "source": [
    "### Complex numbers"
   ]
  },
  {
   "cell_type": "code",
   "execution_count": 2,
   "metadata": {},
   "outputs": [
    {
     "name": "stdout",
     "output_type": "stream",
     "text": [
      "(1+5j)\n"
     ]
    }
   ],
   "source": [
    "a = 1 + 5j\n",
    "\n",
    "print(a)"
   ]
  },
  {
   "cell_type": "markdown",
   "metadata": {},
   "source": [
    "### Real Numbers"
   ]
  },
  {
   "cell_type": "code",
   "execution_count": 3,
   "metadata": {},
   "outputs": [
    {
     "name": "stdout",
     "output_type": "stream",
     "text": [
      "c is the float cast of b: 7.0\n"
     ]
    }
   ],
   "source": [
    "b = 7\n",
    "c = float (b) # cast variable\n",
    "\n",
    "print(\"c is the float cast of b: \" + str(c))"
   ]
  },
  {
   "cell_type": "markdown",
   "metadata": {},
   "source": [
    "___\n",
    "## Strings\n",
    "- Strings are delimited by either single or double quotation marks\n",
    "- Standard escape character: \\n\n",
    "- Continue on the next line: \\\n",
    "- Multiple lines of text with 3 double quotation marks: \n",
    "- Concatenation handled by +\n",
    "- Repetition handled by *"
   ]
  },
  {
   "cell_type": "code",
   "execution_count": 4,
   "metadata": {},
   "outputs": [
    {
     "name": "stdout",
     "output_type": "stream",
     "text": [
      "This is a\n",
      "block of \n",
      "text.\n",
      "\n",
      "\n",
      "This is a\n",
      "        block of \n",
      "        text aligned in the code\n"
     ]
    }
   ],
   "source": [
    "print(\"\"\"This is a\n",
    "block of \n",
    "text.\"\"\") \n",
    "\n",
    "print(\"\\n\")\n",
    "\n",
    "# treat as a continuous string, if you add spaces to format code, that will translate to formating of the output string\n",
    "print(\"\"\"This is a\n",
    "        block of \n",
    "        text aligned in the code\"\"\") "
   ]
  },
  {
   "cell_type": "markdown",
   "metadata": {},
   "source": [
    "___\n",
    "## Strings as Lists\n",
    "- Strings are actually lists of characters\n",
    "- The first element is indexed 0\n",
    "- Can grab a substring called a \"slice\"\n",
    "- Negative indexing starts from the end of the string (list) by index -1\n",
    "- Are immutable (or not changeable)\n",
    "- IMPORTANT: the first element of a slice is inclusive, but the last element is exclusive\n",
    "    - so slice[0:5] goes from index 0 to 4 (it excludes the end index from the slice)"
   ]
  },
  {
   "cell_type": "code",
   "execution_count": 4,
   "metadata": {},
   "outputs": [
    {
     "name": "stdout",
     "output_type": "stream",
     "text": [
      "The entire string is: abcde\n",
      "The first element is the 0th index: a\n",
      "The 5th element in the string/list is: e\n",
      "\n",
      "\n",
      "The slice of elements 3 to 5 is: cd\n",
      "A negative index accesses the string/list from the last element, starting by index -1: e\n"
     ]
    }
   ],
   "source": [
    "a = \"abcde\"\n",
    "print(\"The entire string is: \" + a)\n",
    "print(\"The first element is the 0th index: \" + a[0]) # first element is 0\n",
    "print(\"The 5th element in the string/list is: \" + a[4]) \n",
    "print(\"\\n\") # print a new line\n",
    "print(\"The slice of elements 3 to 5 is: \" + a[2:4]) # a slice from the original string (or List)\n",
    "print(\"A negative index accesses the string/list from the last element, starting by index -1: \" + a[-1])"
   ]
  },
  {
   "cell_type": "markdown",
   "metadata": {},
   "source": [
    "___\n",
    "## Lists\n",
    "- Objects with properties and functions\n",
    "    - For instance, append()\n",
    "- Are mutable (or changeable)\n",
    "- Have no type\n",
    "    - which means you can put any type of object in elements of lists (including other lists)"
   ]
  },
  {
   "cell_type": "code",
   "execution_count": 5,
   "metadata": {},
   "outputs": [
    {
     "name": "stdout",
     "output_type": "stream",
     "text": [
      "1st element of the list: 1\n",
      "2nd element of the list: 2.0\n",
      "3rd element of the list: This is a string element\n",
      "4th element of the list: 83\n",
      "5th element of the list: [True, 2, 101.3]\n"
     ]
    }
   ],
   "source": [
    "a = True\n",
    "apple = 83\n",
    "myList = [1, 2.0, \"This is a string element\", apple, [a, 2, 101.3]]\n",
    "print(\"1st element of the list: \" + str(myList[0]))\n",
    "print(\"2nd element of the list: \" + str(myList[1]))\n",
    "print(\"3rd element of the list: \" + str(myList[2]))\n",
    "print(\"4th element of the list: \" + str(myList[3]))\n",
    "print(\"5th element of the list: \" + str(myList[4]))"
   ]
  },
  {
   "cell_type": "markdown",
   "metadata": {},
   "source": [
    "___\n",
    "## Tuples\n",
    "- is an immutable group of elements\n",
    "- it is defined by parentheses\n",
    "- access individual elements with index in square brackets []\n",
    "- while the tuple is immutable, individual elements are mutable\n",
    "    - you can add an element inside one of the elements in the tuple using append()"
   ]
  },
  {
   "cell_type": "code",
   "execution_count": 6,
   "metadata": {},
   "outputs": [
    {
     "name": "stdout",
     "output_type": "stream",
     "text": [
      "Original myTuple:\n",
      "myTuple contains: 1, 2, apple string, ['hi', 10.5]\n",
      "Updated myTuple:\n",
      "myTuple contains: 1, 2, apple string, ['hi', 10.5, 'appendix']\n"
     ]
    }
   ],
   "source": [
    "a = 2\n",
    "b = \"hi\"\n",
    "c = 10.5\n",
    "apple = \"apple string\"\n",
    "myTuple = (1, a, apple, [b, c])\n",
    "print(\"Original myTuple:\")\n",
    "print(\"myTuple contains: \" + str(myTuple[0]) + \", \" + str(myTuple[1]) + \", \" + str(myTuple[2]) + \", \" + str(myTuple[3]))\n",
    "\n",
    "myTuple[3].append(\"appendix\")\n",
    "print(\"Updated myTuple:\")\n",
    "print(\"myTuple contains: \" + str(myTuple[0]) + \", \" + str(myTuple[1]) + \", \" + str(myTuple[2]) + \", \" + str(myTuple[3]))"
   ]
  },
  {
   "cell_type": "markdown",
   "metadata": {},
   "source": [
    "___\n",
    "## Sets\n",
    "- an unordered group of elements that does not have any duplicates\n",
    "- defined by curly brackets\n",
    "- membership tests with keyword \"in\""
   ]
  },
  {
   "cell_type": "code",
   "execution_count": 7,
   "metadata": {},
   "outputs": [
    {
     "name": "stdout",
     "output_type": "stream",
     "text": [
      "Test apple: True\n",
      "Test orange: True\n",
      "Test b: True\n",
      "Test NotElement: False\n"
     ]
    }
   ],
   "source": [
    "a = 1\n",
    "b = False\n",
    "z = 555\n",
    "mySet = {'apple', 'orange', a, 10.5 , b}\n",
    "# test membership in the set returns boolean\n",
    "testApple =  'apple' in mySet\n",
    "testOrange = 'orange' in mySet\n",
    "testB = b in mySet\n",
    "testNotElement = z in mySet\n",
    "print(\"Test apple: \" + str(testApple))\n",
    "print(\"Test orange: \" + str(testOrange))\n",
    "print(\"Test b: \" + str(testB))\n",
    "print(\"Test NotElement: \" + str(testNotElement))"
   ]
  },
  {
   "cell_type": "markdown",
   "metadata": {},
   "source": [
    "___\n",
    "## Dictionaries\n",
    "- a set of {key:value} pairs"
   ]
  },
  {
   "cell_type": "code",
   "execution_count": 1,
   "metadata": {},
   "outputs": [
    {
     "name": "stdout",
     "output_type": "stream",
     "text": [
      "John is: 20 years old\n",
      "Tom's age is: 25\n"
     ]
    },
    {
     "data": {
      "text/plain": [
       "65"
      ]
     },
     "execution_count": 1,
     "metadata": {},
     "output_type": "execute_result"
    }
   ],
   "source": [
    "apple = 'apple'\n",
    "age1 = 20\n",
    "age2 = 25\n",
    "age3 = 65\n",
    "myDictionaryPeoplesAges = {'John':age1, 'Tom':age2, apple:age3}\n",
    "print(\"John is: \" + str(myDictionaryPeoplesAges['John']) + \" years old\")\n",
    "print(\"Tom's age is: \" + str(myDictionaryPeoplesAges['Tom']))\n",
    "# print(\"Apple is on in the dictionary: \" apple in myDictionaryPeoplesAges)\n",
    "myDictionaryPeoplesAges[apple]"
   ]
  },
  {
   "cell_type": "markdown",
   "metadata": {},
   "source": [
    "___\n",
    "## Extras\n",
    "Print magic command options"
   ]
  },
  {
   "cell_type": "code",
   "execution_count": 2,
   "metadata": {},
   "outputs": [
    {
     "data": {
      "application/json": {
       "cell": {
        "!": "OSMagics",
        "HTML": "Other",
        "SVG": "Other",
        "bash": "Other",
        "capture": "ExecutionMagics",
        "cmd": "Other",
        "debug": "ExecutionMagics",
        "file": "Other",
        "html": "DisplayMagics",
        "javascript": "DisplayMagics",
        "js": "DisplayMagics",
        "latex": "DisplayMagics",
        "markdown": "DisplayMagics",
        "perl": "Other",
        "prun": "ExecutionMagics",
        "pypy": "Other",
        "python": "Other",
        "python2": "Other",
        "python3": "Other",
        "ruby": "Other",
        "script": "ScriptMagics",
        "sh": "Other",
        "svg": "DisplayMagics",
        "sx": "OSMagics",
        "system": "OSMagics",
        "time": "ExecutionMagics",
        "timeit": "ExecutionMagics",
        "writefile": "OSMagics"
       },
       "line": {
        "alias": "OSMagics",
        "alias_magic": "BasicMagics",
        "autoawait": "AsyncMagics",
        "autocall": "AutoMagics",
        "automagic": "AutoMagics",
        "autosave": "KernelMagics",
        "bookmark": "OSMagics",
        "cd": "OSMagics",
        "clear": "KernelMagics",
        "cls": "KernelMagics",
        "colors": "BasicMagics",
        "conda": "PackagingMagics",
        "config": "ConfigMagics",
        "connect_info": "KernelMagics",
        "copy": "Other",
        "ddir": "Other",
        "debug": "ExecutionMagics",
        "dhist": "OSMagics",
        "dirs": "OSMagics",
        "doctest_mode": "BasicMagics",
        "echo": "Other",
        "ed": "Other",
        "edit": "KernelMagics",
        "env": "OSMagics",
        "gui": "BasicMagics",
        "hist": "Other",
        "history": "HistoryMagics",
        "killbgscripts": "ScriptMagics",
        "ldir": "Other",
        "less": "KernelMagics",
        "load": "CodeMagics",
        "load_ext": "ExtensionMagics",
        "loadpy": "CodeMagics",
        "logoff": "LoggingMagics",
        "logon": "LoggingMagics",
        "logstart": "LoggingMagics",
        "logstate": "LoggingMagics",
        "logstop": "LoggingMagics",
        "ls": "Other",
        "lsmagic": "BasicMagics",
        "macro": "ExecutionMagics",
        "magic": "BasicMagics",
        "matplotlib": "PylabMagics",
        "mkdir": "Other",
        "more": "KernelMagics",
        "notebook": "BasicMagics",
        "page": "BasicMagics",
        "pastebin": "CodeMagics",
        "pdb": "ExecutionMagics",
        "pdef": "NamespaceMagics",
        "pdoc": "NamespaceMagics",
        "pfile": "NamespaceMagics",
        "pinfo": "NamespaceMagics",
        "pinfo2": "NamespaceMagics",
        "pip": "PackagingMagics",
        "popd": "OSMagics",
        "pprint": "BasicMagics",
        "precision": "BasicMagics",
        "prun": "ExecutionMagics",
        "psearch": "NamespaceMagics",
        "psource": "NamespaceMagics",
        "pushd": "OSMagics",
        "pwd": "OSMagics",
        "pycat": "OSMagics",
        "pylab": "PylabMagics",
        "qtconsole": "KernelMagics",
        "quickref": "BasicMagics",
        "recall": "HistoryMagics",
        "rehashx": "OSMagics",
        "reload_ext": "ExtensionMagics",
        "ren": "Other",
        "rep": "Other",
        "rerun": "HistoryMagics",
        "reset": "NamespaceMagics",
        "reset_selective": "NamespaceMagics",
        "rmdir": "Other",
        "run": "ExecutionMagics",
        "save": "CodeMagics",
        "sc": "OSMagics",
        "set_env": "OSMagics",
        "store": "StoreMagics",
        "sx": "OSMagics",
        "system": "OSMagics",
        "tb": "ExecutionMagics",
        "time": "ExecutionMagics",
        "timeit": "ExecutionMagics",
        "unalias": "OSMagics",
        "unload_ext": "ExtensionMagics",
        "who": "NamespaceMagics",
        "who_ls": "NamespaceMagics",
        "whos": "NamespaceMagics",
        "xdel": "NamespaceMagics",
        "xmode": "BasicMagics"
       }
      },
      "text/plain": [
       "Available line magics:\n",
       "%alias  %alias_magic  %autoawait  %autocall  %automagic  %autosave  %bookmark  %cd  %clear  %cls  %colors  %conda  %config  %connect_info  %copy  %ddir  %debug  %dhist  %dirs  %doctest_mode  %echo  %ed  %edit  %env  %gui  %hist  %history  %killbgscripts  %ldir  %less  %load  %load_ext  %loadpy  %logoff  %logon  %logstart  %logstate  %logstop  %ls  %lsmagic  %macro  %magic  %matplotlib  %mkdir  %more  %notebook  %page  %pastebin  %pdb  %pdef  %pdoc  %pfile  %pinfo  %pinfo2  %pip  %popd  %pprint  %precision  %prun  %psearch  %psource  %pushd  %pwd  %pycat  %pylab  %qtconsole  %quickref  %recall  %rehashx  %reload_ext  %ren  %rep  %rerun  %reset  %reset_selective  %rmdir  %run  %save  %sc  %set_env  %store  %sx  %system  %tb  %time  %timeit  %unalias  %unload_ext  %who  %who_ls  %whos  %xdel  %xmode\n",
       "\n",
       "Available cell magics:\n",
       "%%!  %%HTML  %%SVG  %%bash  %%capture  %%cmd  %%debug  %%file  %%html  %%javascript  %%js  %%latex  %%markdown  %%perl  %%prun  %%pypy  %%python  %%python2  %%python3  %%ruby  %%script  %%sh  %%svg  %%sx  %%system  %%time  %%timeit  %%writefile\n",
       "\n",
       "Automagic is ON, % prefix IS NOT needed for line magics."
      ]
     },
     "execution_count": 2,
     "metadata": {},
     "output_type": "execute_result"
    }
   ],
   "source": [
    "%lsmagic"
   ]
  }
 ],
 "metadata": {
  "kernelspec": {
   "display_name": "Python 3.9.13 ('lammps': conda)",
   "language": "python",
   "name": "python3"
  },
  "language_info": {
   "codemirror_mode": {
    "name": "ipython",
    "version": 3
   },
   "file_extension": ".py",
   "mimetype": "text/x-python",
   "name": "python",
   "nbconvert_exporter": "python",
   "pygments_lexer": "ipython3",
   "version": "3.9.13"
  },
  "vscode": {
   "interpreter": {
    "hash": "aa2fccf6ae1c627bbcafe322058bbdadff854f170f897d165d140b049f28b186"
   }
  }
 },
 "nbformat": 4,
 "nbformat_minor": 4
}
