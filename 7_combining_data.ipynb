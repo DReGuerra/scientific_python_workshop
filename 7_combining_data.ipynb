{
 "cells": [
  {
   "cell_type": "markdown",
   "id": "creative-disaster",
   "metadata": {},
   "source": [
    "# Data Analysis in Python Workshop\n",
    "André Guerra, andre.guerra@mail.mcgill.ca \\\n",
    "April, 2021 \\\n",
    "<u>Desciption:</u> This workshop focuses on data analysis techniques using python.\n",
    "\n",
    "This notebook in the series examines combining data from sliced dataframes to form one new dataframe."
   ]
  },
  {
   "cell_type": "markdown",
   "id": "rural-fossil",
   "metadata": {},
   "source": [
    "___\n",
    "## Jupyter notebooks\n",
    "Some useful shortcuts to use in Jupyter notebooks.\n",
    "\n",
    "When outside a cell:\n",
    "- <b>A</b>: insert a cell above the current\n",
    "- <b>B</b>: insert a cell below the current\n",
    "- <b>D,D</b>: delete the current cell\n",
    "- <b>M</b>: make the current cell markdown type\n",
    "- <b>Y</b>: make the current cell code type\n",
    "\n",
    "When inside a cell:\n",
    "- <b>shift + enter</b>: execute/run cell\n",
    "- <b>cmd + /</b>: comment/uncomment a line of code"
   ]
  },
  {
   "cell_type": "markdown",
   "id": "democratic-closing",
   "metadata": {},
   "source": [
    "___\n",
    "## Import statement(s)\n",
    "Import the package(s) and assign it to a local variable(s) for use in our code."
   ]
  },
  {
   "cell_type": "code",
   "execution_count": null,
   "id": "handy-madonna",
   "metadata": {},
   "outputs": [],
   "source": [
    "import pandas as pd\n",
    "pd.set_option(\"precision\",3)"
   ]
  },
  {
   "cell_type": "code",
   "execution_count": null,
   "id": "macro-investigation",
   "metadata": {},
   "outputs": [],
   "source": []
  },
  {
   "cell_type": "code",
   "execution_count": null,
   "id": "protective-hudson",
   "metadata": {},
   "outputs": [],
   "source": []
  }
 ],
 "metadata": {
  "kernelspec": {
   "display_name": "Python 3",
   "language": "python",
   "name": "python3"
  },
  "language_info": {
   "codemirror_mode": {
    "name": "ipython",
    "version": 3
   },
   "file_extension": ".py",
   "mimetype": "text/x-python",
   "name": "python",
   "nbconvert_exporter": "python",
   "pygments_lexer": "ipython3",
   "version": "3.8.8"
  }
 },
 "nbformat": 4,
 "nbformat_minor": 5
}
